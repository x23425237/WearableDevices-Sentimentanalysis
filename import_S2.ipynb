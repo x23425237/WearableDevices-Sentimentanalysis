{
 "cells": [
  {
   "cell_type": "markdown",
   "id": "52273c87",
   "metadata": {},
   "source": [
    "<div style=\"text-align: center\"> <h1>Wearable Devices- Combine Multile CSV </h1></div>"
   ]
  },
  {
   "cell_type": "markdown",
   "id": "3f17fc35",
   "metadata": {},
   "source": [
    "<div style=\"text-align: center\"> <h1> Bharathi Ramapatnam x23425237 </h1></div>"
   ]
  },
  {
   "cell_type": "markdown",
   "id": "38b17a5e",
   "metadata": {},
   "source": [
    "<div style=\"text-align: center\"> <h1> Data Mining and Mechine learning </h1></div>"
   ]
  },
  {
   "cell_type": "markdown",
   "id": "b8569013",
   "metadata": {},
   "source": [
    "<div style=\"text-align: center\"> <h2>This script imports 27 csv files from Room 2 and assigns column names </h2></div>"
   ]
  },
  {
   "cell_type": "code",
   "execution_count": 1,
   "id": "73784637-65fa-487f-8e1a-6ec625d767d7",
   "metadata": {},
   "outputs": [],
   "source": [
    "import pandas as pd\n",
    "import glob\n",
    "import os\n",
    "\n",
    "\n",
    "%run C:/Users/prana/Documents/NCI/PythonWorkSpace/WearableDevices/functions.ipynb"
   ]
  },
  {
   "cell_type": "code",
   "execution_count": 2,
   "id": "9beef648-17df-464e-aea9-3085ca7b0d6f",
   "metadata": {},
   "outputs": [
    {
     "name": "stdout",
     "output_type": "stream",
     "text": [
      "Current working directory: C:\\Users\\prana\\Documents\\NCI\\PythonWorkSpace\\WearableDevices\\Data\\S2_Dataset\n"
     ]
    }
   ],
   "source": [
    "\n",
    "# Change the current working directory\n",
    "os.chdir(\"C:/Users/prana/Documents/NCI/PythonWorkSpace/WearableDevices/Data/S2_Dataset\")\n",
    "#Documents/NCI/PythonWorkSpace/WearableDevices/Data/S2_Dataset\n",
    "\n",
    "print(\"Current working directory:\", os.getcwd())"
   ]
  },
  {
   "cell_type": "code",
   "execution_count": 3,
   "id": "159c3540-898c-48f3-ba76-92c1ddf6768d",
   "metadata": {},
   "outputs": [],
   "source": [
    "# Define the column names\n",
    "column_names = [\n",
    "    'Time (seconds)', 'Acceleration (Frontal) [G]', 'Acceleration (Vertical) [G]',\n",
    "    'Acceleration (Lateral) [G]', 'Sensor ID', 'RSSI (Received Signal Strength Indicator)',\n",
    "    'Phase', 'Frequency', 'Activity Label'\n",
    "]"
   ]
  },
  {
   "cell_type": "code",
   "execution_count": null,
   "id": "f51ba24f-f86b-4b3a-aa0f-c7b4168ad915",
   "metadata": {},
   "outputs": [],
   "source": []
  },
  {
   "cell_type": "code",
   "execution_count": 4,
   "id": "21050587-09da-471f-8a9f-f71c2d9203db",
   "metadata": {},
   "outputs": [
    {
     "name": "stdout",
     "output_type": "stream",
     "text": [
      "     Time (seconds)  Acceleration (Frontal) [G]  Acceleration (Vertical) [G]  \\\n",
      "0              0.00                   -0.232160                     0.215880   \n",
      "1              0.25                   -0.056282                     0.043636   \n",
      "2              0.50                    0.143050                     0.296270   \n",
      "3              0.75                    0.318930                     0.284780   \n",
      "4              1.05                    0.412730                     0.135500   \n",
      "..              ...                         ...                          ...   \n",
      "173          444.00                    0.905200                     0.640760   \n",
      "174          449.00                    0.905200                     0.640760   \n",
      "175          451.50                    0.424460                     0.916360   \n",
      "176          451.58                    0.424460                     0.916360   \n",
      "177          452.25                    0.588620                     0.870420   \n",
      "\n",
      "     Acceleration (Lateral) [G]  Sensor ID  \\\n",
      "0                     -1.188200          2   \n",
      "1                     -1.142600          2   \n",
      "2                     -1.336400          3   \n",
      "3                     -0.925930          2   \n",
      "4                     -1.028600          2   \n",
      "..                          ...        ...   \n",
      "173                   -0.082102          1   \n",
      "174                   -0.082102          1   \n",
      "175                   -0.161920          1   \n",
      "176                   -0.161920          1   \n",
      "177                   -0.082102          1   \n",
      "\n",
      "     RSSI (Received Signal Strength Indicator)    Phase  Frequency  \\\n",
      "0                                        -48.5  2.74430     920.75   \n",
      "1                                        -50.0  2.36540     921.75   \n",
      "2                                        -59.5  0.20709     922.25   \n",
      "3                                        -51.0  0.41571     923.25   \n",
      "4                                        -44.5  4.45470     920.25   \n",
      "..                                         ...      ...        ...   \n",
      "173                                      -59.5  1.95740     922.25   \n",
      "174                                      -59.0  6.25400     922.25   \n",
      "175                                      -53.0  5.71560     922.25   \n",
      "176                                      -52.0  5.89820     922.25   \n",
      "177                                      -60.0  5.70330     925.75   \n",
      "\n",
      "     Activity Label  \n",
      "0                 3  \n",
      "1                 3  \n",
      "2                 3  \n",
      "3                 3  \n",
      "4                 3  \n",
      "..              ...  \n",
      "173               2  \n",
      "174               2  \n",
      "175               4  \n",
      "176               4  \n",
      "177               4  \n",
      "\n",
      "[22646 rows x 9 columns]\n"
     ]
    }
   ],
   "source": [
    "# Get a list of all CSV files in a directory\n",
    "csv_files = glob.glob('*.csv')\n",
    "\n",
    "# Create an empty dataframe to store the combined data\n",
    "combined_df = pd.DataFrame()\n",
    "\n",
    "# Loop through each CSV file and append its contents to the combined dataframe\n",
    "for csv_file in csv_files:\n",
    "    df = pd.read_csv(csv_file, header=None, names=column_names)\n",
    "    combined_df = pd.concat([combined_df, df])\n",
    "\n",
    "# Print the combined dataframe\n",
    "print(combined_df)"
   ]
  },
  {
   "cell_type": "code",
   "execution_count": 5,
   "id": "296f4421-175c-41ba-9a0c-df092b06e3ae",
   "metadata": {},
   "outputs": [],
   "source": [
    "# create new column 'Room' set value as S2 \n",
    "\n",
    "combined_df['Room'] = 'S2'"
   ]
  },
  {
   "cell_type": "code",
   "execution_count": 6,
   "id": "d4458acb-e215-454e-81d6-582c07953db4",
   "metadata": {},
   "outputs": [],
   "source": [
    "# export S2 data to csv\n",
    "combined_df.to_csv('C:/Users/prana/Documents/NCI/PythonWorkSpace/WearableDevices/Data/S2_1.csv', index=False)"
   ]
  },
  {
   "cell_type": "code",
   "execution_count": null,
   "id": "2ccbfbdd-d4e1-49e7-b358-062752e61d0d",
   "metadata": {},
   "outputs": [],
   "source": []
  }
 ],
 "metadata": {
  "kernelspec": {
   "display_name": "Python 3 (ipykernel)",
   "language": "python",
   "name": "python3"
  },
  "language_info": {
   "codemirror_mode": {
    "name": "ipython",
    "version": 3
   },
   "file_extension": ".py",
   "mimetype": "text/x-python",
   "name": "python",
   "nbconvert_exporter": "python",
   "pygments_lexer": "ipython3",
   "version": "3.9.12"
  },
  "toc": {
   "base_numbering": 1,
   "nav_menu": {},
   "number_sections": false,
   "sideBar": true,
   "skip_h1_title": false,
   "title_cell": "Table of Contents",
   "title_sidebar": "Contents",
   "toc_cell": false,
   "toc_position": {
    "height": "calc(100% - 180px)",
    "left": "10px",
    "top": "150px",
    "width": "325.594px"
   },
   "toc_section_display": true,
   "toc_window_display": true
  },
  "varInspector": {
   "cols": {
    "lenName": 16,
    "lenType": 16,
    "lenVar": 40
   },
   "kernels_config": {
    "python": {
     "delete_cmd_postfix": "",
     "delete_cmd_prefix": "del ",
     "library": "var_list.py",
     "varRefreshCmd": "print(var_dic_list())"
    },
    "r": {
     "delete_cmd_postfix": ") ",
     "delete_cmd_prefix": "rm(",
     "library": "var_list.r",
     "varRefreshCmd": "cat(var_dic_list()) "
    }
   },
   "types_to_exclude": [
    "module",
    "function",
    "builtin_function_or_method",
    "instance",
    "_Feature"
   ],
   "window_display": false
  }
 },
 "nbformat": 4,
 "nbformat_minor": 5
}
