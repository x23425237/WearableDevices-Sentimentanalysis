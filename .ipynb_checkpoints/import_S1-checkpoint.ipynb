{
 "cells": [
  {
   "cell_type": "markdown",
   "id": "62238bbe",
   "metadata": {},
   "source": [
    "<div style=\"text-align: center\"> <h1>Wearable Devices- Combine Multile CSV </h1></div>"
   ]
  },
  {
   "cell_type": "markdown",
   "id": "a1c0eaf2",
   "metadata": {},
   "source": [
    "<div style=\"text-align: center\"> <h1> Bharathi Ramapatnam x23425237 </h1></div>"
   ]
  },
  {
   "cell_type": "markdown",
   "id": "ced87654",
   "metadata": {},
   "source": [
    "<div style=\"text-align: center\"> <h1> Data Mining and Mechine learning </h1></div>"
   ]
  },
  {
   "cell_type": "markdown",
   "id": "a0355a78",
   "metadata": {},
   "source": [
    "<div style=\"text-align: center\"> <h2>This script import 60 csv files from Room 1 and assigns column names </h2></div>\n",
    "\n"
   ]
  },
  {
   "cell_type": "code",
   "execution_count": 1,
   "id": "73784637-65fa-487f-8e1a-6ec625d767d7",
   "metadata": {},
   "outputs": [],
   "source": [
    "import pandas as pd\n",
    "import glob\n",
    "import os\n",
    "\n",
    "\n",
    "%run C:/Users/prana/Documents/NCI/PythonWorkSpace/WearableDevices/functions.ipynb"
   ]
  },
  {
   "cell_type": "code",
   "execution_count": 2,
   "id": "9beef648-17df-464e-aea9-3085ca7b0d6f",
   "metadata": {},
   "outputs": [
    {
     "name": "stdout",
     "output_type": "stream",
     "text": [
      "Current working directory: C:\\Users\\prana\\Documents\\NCI\\PythonWorkSpace\\WearableDevices\\Data\\S1_Dataset\n"
     ]
    }
   ],
   "source": [
    "\n",
    "# Change the current working directory\n",
    "os.chdir(\"C:/Users/prana/Documents/NCI/PythonWorkSpace/WearableDevices/Data/S1_Dataset\")\n",
    "#C:/Users/prana/Documents/NCI/PythonWorkSpace/WearableDevices/Data/S1_Dataset\n",
    "\n",
    "print(\"Current working directory:\", os.getcwd())"
   ]
  },
  {
   "cell_type": "code",
   "execution_count": 3,
   "id": "159c3540-898c-48f3-ba76-92c1ddf6768d",
   "metadata": {},
   "outputs": [],
   "source": [
    "# Define the column names\n",
    "column_names = [\n",
    "    'Time (seconds)', 'Acceleration (Frontal) [G]', 'Acceleration (Vertical) [G]',\n",
    "    'Acceleration (Lateral) [G]', 'Sensor ID', 'RSSI (Received Signal Strength Indicator)',\n",
    "    'Phase', 'Frequency', 'Activity Label'\n",
    "]"
   ]
  },
  {
   "cell_type": "code",
   "execution_count": 4,
   "id": "21050587-09da-471f-8a9f-f71c2d9203db",
   "metadata": {},
   "outputs": [
    {
     "name": "stdout",
     "output_type": "stream",
     "text": [
      "     Time (seconds)  Acceleration (Frontal) [G]  Acceleration (Vertical) [G]  \\\n",
      "0              0.00                    0.272030                      1.00820   \n",
      "1              0.50                    0.272030                      1.00820   \n",
      "2              1.50                    0.447910                      0.91636   \n",
      "3              1.75                    0.447910                      0.91636   \n",
      "4              2.50                    0.342380                      0.96229   \n",
      "..              ...                         ...                          ...   \n",
      "719          485.00                    0.330660                      0.95081   \n",
      "720          485.08                    0.330660                      0.95081   \n",
      "721          485.50                    0.330660                      0.95081   \n",
      "722          488.25                    0.119600                      0.82449   \n",
      "723          488.75                    0.072698                      1.31830   \n",
      "\n",
      "     Acceleration (Lateral) [G]  Sensor ID  \\\n",
      "0                     -0.082102          1   \n",
      "1                     -0.082102          1   \n",
      "2                     -0.013684          1   \n",
      "3                     -0.013684          1   \n",
      "4                     -0.059296          1   \n",
      "..                          ...        ...   \n",
      "719                   -0.230340          1   \n",
      "720                   -0.230340          3   \n",
      "721                   -0.230340          1   \n",
      "722                    0.009122          4   \n",
      "723                    0.009122          4   \n",
      "\n",
      "     RSSI (Received Signal Strength Indicator)   Phase  Frequency  \\\n",
      "0                                        -63.5  2.4252     924.25   \n",
      "1                                        -63.0  4.7369     921.75   \n",
      "2                                        -63.5  3.0311     923.75   \n",
      "3                                        -63.0  2.0371     921.25   \n",
      "4                                        -63.5  5.8920     920.25   \n",
      "..                                         ...     ...        ...   \n",
      "719                                      -57.0  6.2188     921.75   \n",
      "720                                      -58.0  0.8805     921.75   \n",
      "721                                      -60.5  5.0054     924.75   \n",
      "722                                      -56.0  4.9087     925.75   \n",
      "723                                      -56.5  1.0370     922.75   \n",
      "\n",
      "     Activity Label  \n",
      "0                 1  \n",
      "1                 1  \n",
      "2                 1  \n",
      "3                 1  \n",
      "4                 1  \n",
      "..              ...  \n",
      "719               1  \n",
      "720               1  \n",
      "721               1  \n",
      "722               4  \n",
      "723               4  \n",
      "\n",
      "[52482 rows x 9 columns]\n"
     ]
    }
   ],
   "source": [
    "# Get a list of all CSV files in a directory\n",
    "csv_files = glob.glob('*.csv')\n",
    "\n",
    "# Create an empty dataframe to store the combined data\n",
    "combined_df = pd.DataFrame()\n",
    "\n",
    "# Loop through each CSV file and append its contents to the combined dataframe\n",
    "for csv_file in csv_files:\n",
    "    df = pd.read_csv(csv_file, header=None, names=column_names)\n",
    "    combined_df = pd.concat([combined_df, df])\n",
    "\n",
    "# Print the combined dataframe\n",
    "print(combined_df)"
   ]
  },
  {
   "cell_type": "code",
   "execution_count": 5,
   "id": "296f4421-175c-41ba-9a0c-df092b06e3ae",
   "metadata": {},
   "outputs": [],
   "source": [
    "# create new column 'Room' set value as S2 \n",
    "\n",
    "combined_df['Room'] = 'S1'"
   ]
  },
  {
   "cell_type": "code",
   "execution_count": 6,
   "id": "d4458acb-e215-454e-81d6-582c07953db4",
   "metadata": {},
   "outputs": [],
   "source": [
    "# export S2 data to csv\n",
    "combined_df.to_csv('C:/Users/prana/Documents/NCI/PythonWorkSpace/WearableDevices/Data/S1_1.csv', index=False)"
   ]
  },
  {
   "cell_type": "code",
   "execution_count": 7,
   "id": "1f2954f1-03dd-4ebf-ab88-b3ad25ed9451",
   "metadata": {},
   "outputs": [
    {
     "data": {
      "text/html": [
       "<div>\n",
       "<style scoped>\n",
       "    .dataframe tbody tr th:only-of-type {\n",
       "        vertical-align: middle;\n",
       "    }\n",
       "\n",
       "    .dataframe tbody tr th {\n",
       "        vertical-align: top;\n",
       "    }\n",
       "\n",
       "    .dataframe thead th {\n",
       "        text-align: right;\n",
       "    }\n",
       "</style>\n",
       "<table border=\"1\" class=\"dataframe\">\n",
       "  <thead>\n",
       "    <tr style=\"text-align: right;\">\n",
       "      <th></th>\n",
       "      <th>Time (seconds)</th>\n",
       "      <th>Acceleration (Frontal) [G]</th>\n",
       "      <th>Acceleration (Vertical) [G]</th>\n",
       "      <th>Acceleration (Lateral) [G]</th>\n",
       "      <th>Sensor ID</th>\n",
       "      <th>RSSI (Received Signal Strength Indicator)</th>\n",
       "      <th>Phase</th>\n",
       "      <th>Frequency</th>\n",
       "      <th>Activity Label</th>\n",
       "    </tr>\n",
       "  </thead>\n",
       "  <tbody>\n",
       "    <tr>\n",
       "      <th>719</th>\n",
       "      <td>485.00</td>\n",
       "      <td>0.330660</td>\n",
       "      <td>0.95081</td>\n",
       "      <td>-0.230340</td>\n",
       "      <td>1</td>\n",
       "      <td>-57.0</td>\n",
       "      <td>6.2188</td>\n",
       "      <td>921.75</td>\n",
       "      <td>1</td>\n",
       "    </tr>\n",
       "    <tr>\n",
       "      <th>720</th>\n",
       "      <td>485.08</td>\n",
       "      <td>0.330660</td>\n",
       "      <td>0.95081</td>\n",
       "      <td>-0.230340</td>\n",
       "      <td>3</td>\n",
       "      <td>-58.0</td>\n",
       "      <td>0.8805</td>\n",
       "      <td>921.75</td>\n",
       "      <td>1</td>\n",
       "    </tr>\n",
       "    <tr>\n",
       "      <th>721</th>\n",
       "      <td>485.50</td>\n",
       "      <td>0.330660</td>\n",
       "      <td>0.95081</td>\n",
       "      <td>-0.230340</td>\n",
       "      <td>1</td>\n",
       "      <td>-60.5</td>\n",
       "      <td>5.0054</td>\n",
       "      <td>924.75</td>\n",
       "      <td>1</td>\n",
       "    </tr>\n",
       "    <tr>\n",
       "      <th>722</th>\n",
       "      <td>488.25</td>\n",
       "      <td>0.119600</td>\n",
       "      <td>0.82449</td>\n",
       "      <td>0.009122</td>\n",
       "      <td>4</td>\n",
       "      <td>-56.0</td>\n",
       "      <td>4.9087</td>\n",
       "      <td>925.75</td>\n",
       "      <td>4</td>\n",
       "    </tr>\n",
       "    <tr>\n",
       "      <th>723</th>\n",
       "      <td>488.75</td>\n",
       "      <td>0.072698</td>\n",
       "      <td>1.31830</td>\n",
       "      <td>0.009122</td>\n",
       "      <td>4</td>\n",
       "      <td>-56.5</td>\n",
       "      <td>1.0370</td>\n",
       "      <td>922.75</td>\n",
       "      <td>4</td>\n",
       "    </tr>\n",
       "  </tbody>\n",
       "</table>\n",
       "</div>"
      ],
      "text/plain": [
       "     Time (seconds)  Acceleration (Frontal) [G]  Acceleration (Vertical) [G]  \\\n",
       "719          485.00                    0.330660                      0.95081   \n",
       "720          485.08                    0.330660                      0.95081   \n",
       "721          485.50                    0.330660                      0.95081   \n",
       "722          488.25                    0.119600                      0.82449   \n",
       "723          488.75                    0.072698                      1.31830   \n",
       "\n",
       "     Acceleration (Lateral) [G]  Sensor ID  \\\n",
       "719                   -0.230340          1   \n",
       "720                   -0.230340          3   \n",
       "721                   -0.230340          1   \n",
       "722                    0.009122          4   \n",
       "723                    0.009122          4   \n",
       "\n",
       "     RSSI (Received Signal Strength Indicator)   Phase  Frequency  \\\n",
       "719                                      -57.0  6.2188     921.75   \n",
       "720                                      -58.0  0.8805     921.75   \n",
       "721                                      -60.5  5.0054     924.75   \n",
       "722                                      -56.0  4.9087     925.75   \n",
       "723                                      -56.5  1.0370     922.75   \n",
       "\n",
       "     Activity Label  \n",
       "719               1  \n",
       "720               1  \n",
       "721               1  \n",
       "722               4  \n",
       "723               4  "
      ]
     },
     "execution_count": 7,
     "metadata": {},
     "output_type": "execute_result"
    }
   ],
   "source": [
    "df.tail()"
   ]
  },
  {
   "cell_type": "code",
   "execution_count": 8,
   "id": "96e62453-f1d9-4a97-b71c-abebfb1a0686",
   "metadata": {},
   "outputs": [],
   "source": [
    "# Assign the column names\n",
    "df.columns = column_names"
   ]
  },
  {
   "cell_type": "code",
   "execution_count": 9,
   "id": "649efd28-e5b0-4fd5-a05a-87dd8006b8e5",
   "metadata": {},
   "outputs": [],
   "source": [
    "# create new column 'Room' set value as S2 \n",
    "\n",
    "df['Room'] = 'S1'"
   ]
  },
  {
   "cell_type": "code",
   "execution_count": 10,
   "id": "f636ad8d-b0fb-4986-9cac-3a7ac26e035c",
   "metadata": {},
   "outputs": [
    {
     "name": "stdout",
     "output_type": "stream",
     "text": [
      "   Time (seconds)  Acceleration (Frontal) [G]  Acceleration (Vertical) [G]  \\\n",
      "0           0.000                    0.248580                      1.05420   \n",
      "1           0.025                    0.342380                      1.18050   \n",
      "2           0.250                    0.060972                      1.07710   \n",
      "3           0.300                    0.131320                      1.05420   \n",
      "4           1.500                    0.471360                      0.90487   \n",
      "\n",
      "   Acceleration (Lateral) [G]  Sensor ID  \\\n",
      "0                   -0.241740          1   \n",
      "1                   -0.116310          1   \n",
      "2                   -0.036490          1   \n",
      "3                   -0.082102          1   \n",
      "4                    0.020525          2   \n",
      "\n",
      "   RSSI (Received Signal Strength Indicator)   Phase  Frequency  \\\n",
      "0                                      -45.5  4.4286     920.25   \n",
      "1                                      -45.0  4.6234     921.75   \n",
      "2                                      -44.5  5.8445     921.75   \n",
      "3                                      -49.5  6.2249     923.25   \n",
      "4                                      -56.0  1.2533     921.25   \n",
      "\n",
      "   Activity Label Room  \n",
      "0               4   S1  \n",
      "1               4   S1  \n",
      "2               4   S1  \n",
      "3               4   S1  \n",
      "4               4   S1  \n"
     ]
    }
   ],
   "source": [
    "print(df.head())"
   ]
  },
  {
   "cell_type": "code",
   "execution_count": null,
   "id": "2ccbfbdd-d4e1-49e7-b358-062752e61d0d",
   "metadata": {},
   "outputs": [],
   "source": []
  }
 ],
 "metadata": {
  "kernelspec": {
   "display_name": "Python 3 (ipykernel)",
   "language": "python",
   "name": "python3"
  },
  "language_info": {
   "codemirror_mode": {
    "name": "ipython",
    "version": 3
   },
   "file_extension": ".py",
   "mimetype": "text/x-python",
   "name": "python",
   "nbconvert_exporter": "python",
   "pygments_lexer": "ipython3",
   "version": "3.9.12"
  },
  "toc": {
   "base_numbering": 1,
   "nav_menu": {},
   "number_sections": false,
   "sideBar": true,
   "skip_h1_title": false,
   "title_cell": "Table of Contents",
   "title_sidebar": "Contents",
   "toc_cell": false,
   "toc_position": {
    "height": "calc(100% - 180px)",
    "left": "10px",
    "top": "150px",
    "width": "325.594px"
   },
   "toc_section_display": true,
   "toc_window_display": true
  },
  "varInspector": {
   "cols": {
    "lenName": 16,
    "lenType": 16,
    "lenVar": 40
   },
   "kernels_config": {
    "python": {
     "delete_cmd_postfix": "",
     "delete_cmd_prefix": "del ",
     "library": "var_list.py",
     "varRefreshCmd": "print(var_dic_list())"
    },
    "r": {
     "delete_cmd_postfix": ") ",
     "delete_cmd_prefix": "rm(",
     "library": "var_list.r",
     "varRefreshCmd": "cat(var_dic_list()) "
    }
   },
   "types_to_exclude": [
    "module",
    "function",
    "builtin_function_or_method",
    "instance",
    "_Feature"
   ],
   "window_display": false
  }
 },
 "nbformat": 4,
 "nbformat_minor": 5
}
